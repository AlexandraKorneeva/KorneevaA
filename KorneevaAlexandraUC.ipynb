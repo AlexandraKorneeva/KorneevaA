{
 "cells": [
  {
   "cell_type": "code",
   "execution_count": 180,
   "metadata": {
    "collapsed": true
   },
   "outputs": [],
   "source": [
    "##Unfair Casino##"
   ]
  },
  {
   "cell_type": "code",
   "execution_count": 280,
   "metadata": {
    "collapsed": true
   },
   "outputs": [],
   "source": [
    "import numpy as np\n",
    "import scipy\n",
    "import random\n",
    "import matplotlib.pyplot as plt\n",
    "import copy\n",
    "%matplotlib inline"
   ]
  },
  {
   "cell_type": "code",
   "execution_count": 281,
   "metadata": {
    "collapsed": true
   },
   "outputs": [],
   "source": [
    "#Имеем 2 матрицы \n",
    "A = scipy.array([[0.95,0.05],[0.1,0.9]])\n",
    "E = scipy.array([[1/6,1/6,1/6,1/6,1/6,1/6],[1/10,1/10,1/10,1/10,1/10,1/2]])#верояности для правильной и неправильной"
   ]
  },
  {
   "cell_type": "code",
   "execution_count": 282,
   "metadata": {},
   "outputs": [
    {
     "name": "stdout",
     "output_type": "stream",
     "text": [
      "[[ 0.95  0.05]\n",
      " [ 0.1   0.9 ]]\n",
      "[[ 0.16666667  0.16666667  0.16666667  0.16666667  0.16666667  0.16666667]\n",
      " [ 0.1         0.1         0.1         0.1         0.1         0.5       ]]\n"
     ]
    }
   ],
   "source": [
    "print(A)\n",
    "print(E)"
   ]
  },
  {
   "cell_type": "code",
   "execution_count": 283,
   "metadata": {},
   "outputs": [],
   "source": [
    "n = len(A)# Найдем стационарное распределение \n",
    "def stationary_distribution(A):\n",
    "    n = len(A)\n",
    "    M1 = np.vstack(((A.transpose() - np.eye(n))[:-1],np.ones(n)))\n",
    "    v1 = np.eye(n)[-1]\n",
    "    p = np.linalg.solve(M1,v1)\n",
    "    return p"
   ]
  },
  {
   "cell_type": "code",
   "execution_count": 284,
   "metadata": {
    "collapsed": true
   },
   "outputs": [],
   "source": [
    "s=stationary_distribution(A)"
   ]
  },
  {
   "cell_type": "code",
   "execution_count": 285,
   "metadata": {},
   "outputs": [],
   "source": [
    "#функция создания вектора наблюдения x и вектора состояний y\n",
    "#0-нечестный кубик, 1-честный кубик\n",
    "#x[i] какое число выпало на кубике\n",
    "n=200 #длина последовательности\n",
    "x=np.full(n, 0)\n",
    "y=np.full(n, 0)\n",
    "k=random.random()\n",
    "\n",
    "if k < s[0]: \n",
    "    y[0]=0\n",
    "    t=random.randint(1,6)\n",
    "    x[0]=t\n",
    "elif k >= s[0]:\n",
    "    y[0]=1\n",
    "    r=random.randint(1,10)\n",
    "    if r<6:\n",
    "        x[0]=r\n",
    "    else: \n",
    "        x[0]=6 #Нашли первые элементы"
   ]
  },
  {
   "cell_type": "code",
   "execution_count": 286,
   "metadata": {
    "collapsed": true
   },
   "outputs": [],
   "source": [
    "i=1 #найдем остальные элементы векторов \n",
    "while i < n:\n",
    "    if y[i-1]==0:\n",
    "        r1=random.randint(1,20)\n",
    "        if r1<19:\n",
    "            y[i]=0\n",
    "        elif r1==20:\n",
    "            y[i]=1\n",
    "    elif y[i-1]==1:        \n",
    "        t=random.randint(1,10) \n",
    "        if t==1:\n",
    "            y[i]=0\n",
    "        elif t >= 2:\n",
    "            y[i]=1\n",
    "    if y[i]==0:\n",
    "        t1=random.randint(1,6)\n",
    "        x[i]=t1\n",
    "        \n",
    "    elif y[i]==1:\n",
    "        r2=random.randint(1,10)\n",
    "        if r2<6:\n",
    "            x[i]=r2\n",
    "        else: \n",
    "            x[i]=6    \n",
    "    i=i+1"
   ]
  },
  {
   "cell_type": "code",
   "execution_count": 287,
   "metadata": {},
   "outputs": [
    {
     "name": "stdout",
     "output_type": "stream",
     "text": [
      "6 6 2 6 6 5 3 4 2 1 5 2 1 5 4 2 1 4 5 4 6 6 6 6 1 5 1 6 3 6 3 1 2 2 6 5 1 2 5 5 6 6 3 1 3 1 1 4 5 1 6 6 5 4 6 3 6 6 6 6 4 5 1 6 5 4 6 5 6 1 6 2 5 2 6 5 2 4 6 6 5 4 2 5 6 3 6 4 1 6 6 6 6 2 6 6 6 6 3 6 6 6 4 1 1 5 1 1 1 5 1 4 3 2 1 5 3 1 6 6 1 4 6 6 1 6 6 6 6 6 6 6 2 1 5 1 6 1 5 4 3 4 6 6 6 6 1 6 5 4 6 2 4 6 6 6 6 1 3 6 6 4 6 3 2 3 3 2 2 5 2 5 3 5 5 2 5 4 5 5 2 3 1 2 3 6 4 1 3 1 2 3 6 5 4 1 6 2 1 5\n",
      "0 0 0 0 0 0 0 0 0 0 0 0 1 1 0 0 0 0 0 0 0 1 1 1 0 0 0 0 0 0 0 0 0 0 0 0 0 0 0 0 0 0 0 0 0 0 0 0 0 0 1 1 1 1 1 1 1 1 1 1 1 1 1 1 1 1 1 1 1 1 0 0 0 0 0 0 0 0 1 1 1 1 1 0 1 1 1 1 0 0 0 0 0 0 1 1 1 1 1 1 1 1 0 0 0 0 0 0 0 0 0 1 1 0 0 1 1 1 1 1 1 1 1 1 1 1 1 1 1 1 1 1 0 0 0 0 0 0 0 0 0 0 0 1 1 1 1 1 1 1 1 1 1 1 1 1 1 1 1 1 1 0 0 0 0 0 0 0 0 0 0 0 0 0 0 0 0 0 0 0 0 0 0 0 0 0 0 0 0 0 0 0 0 0 0 0 0 0 0 0\n"
     ]
    }
   ],
   "source": [
    "print(*x, sep=\" \")\n",
    "print(*y, sep=\" \") #0-неправильная, 1-правильная\n",
    "#получили первый:вектор наблюдения, второй: вектор состояния"
   ]
  },
  {
   "cell_type": "code",
   "execution_count": 288,
   "metadata": {
    "collapsed": true
   },
   "outputs": [],
   "source": [
    "#Алгоритм Витерби\n",
    "#Найдем наиболее вероятную последовательность состояний при данной последовательности наблюдения(х)\n",
    "n=200\n",
    "V=np.zeros((2, n))\n",
    "P=np.zeros((2, n))"
   ]
  },
  {
   "cell_type": "code",
   "execution_count": 289,
   "metadata": {},
   "outputs": [],
   "source": [
    "def Viterby(x, A, E):\n",
    "    n = len(x)\n",
    "    V=np.zeros((2, n))\n",
    "    P=np.zeros((2, n))\n",
    "    V[:, 0] = s*E[:, x[0] - 1]\n",
    "    n = len(x)\n",
    "    m = np.zeros(n)\n",
    "    m[0] = max(V[:, 0])\n",
    "    V[:, 0] /= m[0]\n",
    "    for i_1 in range(1, n):\n",
    "        for j_1 in range(2):\n",
    "            S = E[j_1, x[i_1]-1]*V[:, i_1-1]*A[:, j_1]\n",
    "            #S = E[j, x[i_1-1]]*V[:, i_1-1]*A[:, j_1]\n",
    "            V[j_1,i_1] = max(S)\n",
    "            P[j_1,i_1] = np.argmax(S)\n",
    "    p0 = np.zeros(n)\n",
    "    p0[-1] = np.argmax(V[:,-1])\n",
    "    for i_1 in range(n-2,-1,-1):\n",
    "        p0[i_1] = P[int(p0[i_1+1]),i_1+1]\n",
    "    return p0"
   ]
  },
  {
   "cell_type": "code",
   "execution_count": 290,
   "metadata": {},
   "outputs": [],
   "source": [
    "V_b = Viterby(x, A, E)"
   ]
  },
  {
   "cell_type": "code",
   "execution_count": 291,
   "metadata": {
    "scrolled": false
   },
   "outputs": [
    {
     "name": "stdout",
     "output_type": "stream",
     "text": [
      "1.0 1.0 1.0 1.0 1.0 0.0 0.0 0.0 0.0 0.0 0.0 0.0 0.0 0.0 0.0 0.0 0.0 0.0 0.0 0.0 0.0 0.0 0.0 0.0 0.0 0.0 0.0 0.0 0.0 0.0 0.0 0.0 0.0 0.0 0.0 0.0 0.0 0.0 0.0 0.0 0.0 0.0 0.0 0.0 0.0 0.0 0.0 0.0 0.0 0.0 1.0 1.0 1.0 1.0 1.0 1.0 1.0 1.0 1.0 1.0 1.0 1.0 1.0 1.0 1.0 1.0 1.0 1.0 1.0 1.0 1.0 1.0 1.0 1.0 1.0 1.0 1.0 1.0 1.0 1.0 1.0 1.0 1.0 1.0 1.0 1.0 1.0 1.0 1.0 1.0 1.0 1.0 1.0 1.0 1.0 1.0 1.0 1.0 1.0 1.0 1.0 1.0 0.0 0.0 0.0 0.0 0.0 0.0 0.0 0.0 0.0 0.0 0.0 0.0 0.0 0.0 0.0 0.0 1.0 1.0 1.0 1.0 1.0 1.0 1.0 1.0 1.0 1.0 1.0 1.0 1.0 1.0 1.0 1.0 1.0 1.0 1.0 1.0 1.0 1.0 1.0 1.0 1.0 1.0 1.0 1.0 1.0 1.0 1.0 1.0 1.0 1.0 1.0 1.0 1.0 1.0 1.0 1.0 1.0 1.0 1.0 1.0 1.0 0.0 0.0 0.0 0.0 0.0 0.0 0.0 0.0 0.0 0.0 0.0 0.0 0.0 0.0 0.0 0.0 0.0 0.0 0.0 0.0 0.0 0.0 0.0 0.0 0.0 0.0 0.0 0.0 0.0 0.0 0.0 0.0 0.0 0.0 0.0 0.0 0.0\n"
     ]
    }
   ],
   "source": [
    "print(*V_b, sep=\" \")"
   ]
  },
  {
   "cell_type": "code",
   "execution_count": 292,
   "metadata": {},
   "outputs": [],
   "source": [
    "def P_Viterby(y, p0):\n",
    "    n = len(y)\n",
    "    s = 0\n",
    "    for i in range(n):\n",
    "        if y[i] == p0[i]:\n",
    "            s+=1\n",
    "    return round(s/n,2)\n"
   ]
  },
  {
   "cell_type": "code",
   "execution_count": 338,
   "metadata": {},
   "outputs": [
    {
     "name": "stdout",
     "output_type": "stream",
     "text": [
      "Выборочное среднее: 0.79\n"
     ]
    }
   ],
   "source": [
    "P_V = np.zeros(n)\n",
    "for t in range(n):\n",
    "    P_V[t] = P_Viterby(y, V_b)\n",
    "#P_V\n",
    "e0=sum(P_V)/n\n",
    "print('Выборочное среднее:', e0)"
   ]
  },
  {
   "cell_type": "code",
   "execution_count": 312,
   "metadata": {
    "collapsed": true
   },
   "outputs": [],
   "source": [
    "#Алгоритм Форвард \n",
    "#найдем вероятность попадания в y[i] зная x[0],..,x[i]\n",
    "V1=np.zeros((2, n))\n",
    "V1[0,0]=s[0]*E[0][x[0]-1]\n",
    "V1[1,0]=s[1]*E[1][x[0]-1]\n",
    "#добавляем нормировку \n",
    "norm=np.zeros(n)\n",
    "norm[0]=max(s[0]*E[0][x[0]-1],s[1]*E[1][x[0]-1])\n",
    "V1[0][0]/=norm[0]\n",
    "V1[1][0]/=norm[0]"
   ]
  },
  {
   "cell_type": "code",
   "execution_count": 313,
   "metadata": {},
   "outputs": [],
   "source": [
    "j=1\n",
    "while j < len(x):\n",
    "    s1 = A[0][0]*V1[0][j-1],A[1][0]*V1[1][j-1]\n",
    "    s2 = A[0][1]*V1[0][j-1],A[1][1]*V1[1][j-1]\n",
    "    V1[0][j]=E[0][x[j]-1]*sum(s1)\n",
    "    V1[1][j]=E[1][x[j]-1]*sum(s2)\n",
    "    norm[j]=max(V1[0][j],V1[1][j])\n",
    "    V1[0][j]/=norm[j]\n",
    "    V1[1][j]/=norm[j]\n",
    "    #P_norm=sum(V1[0,-1],V1[1,-1])\n",
    "    j=j+1"
   ]
  },
  {
   "cell_type": "code",
   "execution_count": 314,
   "metadata": {
    "collapsed": true
   },
   "outputs": [],
   "source": [
    "p1 = V1[0,n-1]+V1[1,n-1]"
   ]
  },
  {
   "cell_type": "code",
   "execution_count": 316,
   "metadata": {
    "collapsed": true
   },
   "outputs": [],
   "source": [
    "#Алгоритм обратного хода\n",
    "V2=np.zeros((2, n))\n",
    "norm1=np.zeros(n)\n",
    "norm1[n-1]=1\n",
    "V2[0,n-1]=V2[1,n-1]=1"
   ]
  },
  {
   "cell_type": "code",
   "execution_count": 317,
   "metadata": {},
   "outputs": [],
   "source": [
    "for u in range(n-2,-1,-1):\n",
    "    sr = A[0,0]*V2[0,u+1]*E[0,x[u+1]-1],A[0,1]*V2[1,u+1]*E[1,x[u+1]-1]\n",
    "    st = A[1,0]*V[0,u+1]*E[0,x[u+1]-1],A[1,1]*V[1,u+1]*E[1,x[u+1]-1]\n",
    "    V2[0,u]=sum(sr)\n",
    "    V2[1,u]=sum(st)\n",
    "    norm1[u]=max(V2[0,u],V2[1,u])\n",
    "    V2[0,u]/=norm1[u]\n",
    "    V2[1,u]/=norm1[u]"
   ]
  },
  {
   "cell_type": "code",
   "execution_count": 318,
   "metadata": {},
   "outputs": [],
   "source": [
    "p2=s[0]*V2[0,0]+s[1]*V2[1,0]"
   ]
  },
  {
   "cell_type": "code",
   "execution_count": 320,
   "metadata": {
    "collapsed": true
   },
   "outputs": [],
   "source": [
    "#Апостериорное дешифрование\n",
    "pr=np.zeros(n)\n",
    "k=1\n",
    "while k < len(x):\n",
    "    pr[k]=(V1[0,k]*V2[0,k])/p2\n",
    "    k=k+1"
   ]
  },
  {
   "cell_type": "code",
   "execution_count": 310,
   "metadata": {},
   "outputs": [
    {
     "data": {
      "text/plain": [
       "array([ 0.        ,  0.39285714,  0.95501956,  0.37820348,  0.18602145,\n",
       "        0.60089774,  1.30585037,  1.5       ,  1.5       ,  1.5       ,\n",
       "        1.5       ,  1.5       ,  1.5       ,  1.5       ,  1.5       ,\n",
       "        1.5       ,  1.5       ,  1.5       ,  1.5       ,  1.5       ,\n",
       "        1.5       ,  1.31598276,  0.49448526,  0.22541284,  0.66875423,\n",
       "        1.41913963,  1.5       ,  0.89556195,  1.5       ,  0.64392829,\n",
       "        1.3777562 ,  1.5       ,  1.5       ,  1.5       ,  1.5       ,\n",
       "        1.5       ,  1.5       ,  1.5       ,  1.5       ,  1.5       ,\n",
       "        1.5       ,  1.0974031 ,  1.5       ,  1.5       ,  1.5       ,\n",
       "        1.5       ,  1.5       ,  1.5       ,  1.5       ,  1.5       ,\n",
       "        1.5       ,  1.24645022,  1.5       ,  1.5       ,  1.29428783,\n",
       "        1.5       ,  0.83769761,  0.33975968,  0.1729246 ,  0.11565865,\n",
       "        0.4791986 ,  1.10126696,  1.5       ,  0.74565121,  1.5       ,\n",
       "        1.5       ,  0.95344474,  1.5       ,  0.67294219,  1.42611341,\n",
       "        0.52937513,  1.1858358 ,  1.5       ,  1.5       ,  1.25607663,\n",
       "        1.5       ,  1.5       ,  1.5       ,  1.5       ,  0.67292274,\n",
       "        1.42608103,  1.5       ,  1.5       ,  1.5       ,  1.5       ,\n",
       "        1.5       ,  1.15022299,  1.5       ,  1.5       ,  1.23326221,\n",
       "        0.46810004,  0.21650388,  0.13068493,  0.50524099,  0.2290396 ,\n",
       "        0.13499838,  0.10254228,  0.09128855,  0.43690081,  0.20594737,\n",
       "        0.12704943,  0.09978857,  0.45166246,  1.05472545,  1.5       ,\n",
       "        1.5       ,  1.5       ,  1.5       ,  1.5       ,  1.5       ,\n",
       "        1.5       ,  1.5       ,  1.5       ,  1.5       ,  1.5       ,\n",
       "        1.5       ,  1.5       ,  1.5       ,  1.5       ,  1.31718217,\n",
       "        1.5       ,  1.5       ,  1.33791688,  0.50145572,  1.13881777,\n",
       "        0.43778559,  0.20624708,  0.12715268,  0.09982435,  0.09034492,\n",
       "        0.0870523 ,  0.08590809,  0.427552  ,  1.01389726,  1.5       ,\n",
       "        1.5       ,  1.14333792,  1.5       ,  1.5       ,  1.5       ,\n",
       "        1.5       ,  1.5       ,  1.5       ,  0.99451769,  0.39107365,\n",
       "        0.19039778,  0.60844621,  0.26369608,  0.7345139 ,  1.5       ,\n",
       "        0.56153844,  1.23988275,  1.5       ,  0.81207655,  0.33132108,\n",
       "        0.17004484,  0.114664  ,  0.47747374,  1.09835434,  0.42473542,\n",
       "        0.20182461,  0.62814422,  0.27028128,  0.74580678,  1.5       ,\n",
       "        1.5       ,  1.5       ,  1.5       ,  1.5       ,  1.5       ,\n",
       "        1.5       ,  1.5       ,  1.5       ,  1.5       ,  1.5       ,\n",
       "        1.5       ,  1.5       ,  1.5       ,  1.5       ,  1.5       ,\n",
       "        1.5       ,  1.5       ,  1.5       ,  1.5       ,  1.5       ,\n",
       "        1.5       ,  1.5       ,  1.5       ,  1.5       ,  1.5       ,\n",
       "        1.5       ,  1.5       ,  1.5       ,  1.5       ,  1.5       ,\n",
       "        1.5       ,  1.5       ,  1.5       ,  1.5       ,  1.5       ])"
      ]
     },
     "execution_count": 310,
     "metadata": {},
     "output_type": "execute_result"
    }
   ],
   "source": [
    "pr"
   ]
  },
  {
   "cell_type": "code",
   "execution_count": 339,
   "metadata": {},
   "outputs": [
    {
     "data": {
      "image/png": "[encoded data removed]",
      "text/plain": [
       "<matplotlib.figure.Figure at 0x5d2fb6ccf8>"
      ]
     },
     "metadata": {},
     "output_type": "display_data"
    }
   ],
   "source": [
    "i=0\n",
    "fig, ax = plt.subplots()\n",
    "x_plot = np.arange(n)\n",
    "y_plot = pr\n",
    "for i in range(0,n):\n",
    "    if y[i]==1:\n",
    "        ax.vlines(i,0,1.5,linewidth = 1000/n)\n",
    "ax.plot(x_plot, y_plot)\n",
    "fig.set_figwidth(12)\n",
    "fig.set_figheight(2)\n",
    "fig.set_facecolor('floralwhite')\n",
    "plt.show()"
   ]
  },
  {
   "cell_type": "code",
   "execution_count": null,
   "metadata": {
    "collapsed": true
   },
   "outputs": [],
   "source": []
  }
 ],
 "metadata": {
  "kernelspec": {
   "display_name": "Python 3",
   "language": "python",
   "name": "python3"
  },
  "language_info": {
   "codemirror_mode": {
    "name": "ipython",
    "version": 3
   },
   "file_extension": ".py",
   "mimetype": "text/x-python",
   "name": "python",
   "nbconvert_exporter": "python",
   "pygments_lexer": "ipython3",
   "version": "3.6.3"
  }
 },
 "nbformat": 4,
 "nbformat_minor": 2
}
